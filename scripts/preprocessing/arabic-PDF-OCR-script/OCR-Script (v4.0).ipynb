
# Importing libraries
import os
import shutil
from pdf2image import convert_from_path
import pytesseract
import arabic_reshaper
from bidi.algorithm import get_display
from google.colab import files, drive
import ipywidgets as widgets
from IPython.display import display, clear_output
from pathlib import Path

# Global variables to hold user choices and files
input_source = None  # 'local' or 'drive'
output_dest = None   # 'local' or 'drive'
uploaded_files = []
drive_mount_path = "/content/drive"
output_folder_drive = None

# Utility function to perform OCR on PDF pages, fix Arabic text
def ocr_pdf_to_text(pdf_path):
    # Convert PDF pages to images (one image per page)
    images = convert_from_path(pdf_path)

    extracted_text = ""
    for i, image in enumerate(images):
        # OCR Arabic text from image
        raw_text = pytesseract.image_to_string(image, lang='ara')

        # Fix broken Arabic script with reshaper and bidi algorithm
        reshaped_text = arabic_reshaper.reshape(raw_text)
        bidi_text = get_display(reshaped_text)

        extracted_text += bidi_text + "\n\n"

    return extracted_text

# --- Step 1: Ask input source ---
def step1_input_source():
    clear_output()
    print("Where are your input files?")
    choice = widgets.RadioButtons(
        options=[('Upload files from my computer', 'local'),
                 ('Upload files from Google Drive', 'drive')],
        description='Input Source:',
        disabled=False
    )
    button = widgets.Button(description="Next")

    def on_next(b):
        global input_source
        input_source = choice.value
        if input_source == 'local':
            step2_upload_local()
        else:
            step2_upload_drive()

    button.on_click(on_next)
    display(choice, button)

# --- Step 2A: Upload files from local ---
def step2_upload_local():
    clear_output()
    print("Please upload your PDF file(s) (multiple allowed):")

    uploader = widgets.FileUpload(
        accept='.pdf',
        multiple=True
    )
    button = widgets.Button(description="Next")

    def on_next(b):
        global uploaded_files
        if not uploader.value:
            print("No files uploaded! Please upload at least one PDF.")
            return
        # Save uploaded files locally in /content/uploads
        os.makedirs('/content/uploads', exist_ok=True)
        uploaded_files.clear()
        for filename in uploader.value:
            content = uploader.value[filename]['content']
            file_path = f'/content/uploads/{filename}'
            with open(file_path, 'wb') as f:
                f.write(content)
            uploaded_files.append(file_path)
        step3_output_destination()

    button.on_click(on_next)
    display(uploader, button)

# --- Step 2B: Select files from Google Drive ---
def step2_upload_drive():
    clear_output()
    print("Mounting your Google Drive...")
    drive.mount(drive_mount_path, force_remount=True)

    # Ask user to input the path to folder or files inside Drive (manual entry, since GUI is limited)
    folder_text = widgets.Text(
        value='',
        placeholder='Enter Google Drive folder path containing PDFs (e.g. /content/drive/MyDrive/my_pdfs)',
        description='Drive Path:',
        layout=widgets.Layout(width='90%')
    )
    button = widgets.Button(description="Load PDFs")

    def on_load(b):
        global uploaded_files
        path = folder_text.value.strip()
        if not path or not os.path.exists(path):
            print(f"Path does not exist: {path}")
            return
        # List PDF files in the folder
        pdf_files = list(Path(path).glob('*.pdf'))
        if not pdf_files:
            print(f"No PDF files found in {path}")
            return

        print(f"Found {len(pdf_files)} PDF files:")
        for f in pdf_files:
            print(f.name)

        uploaded_files = [str(f) for f in pdf_files]

        step3_output_destination()

    button.on_click(on_load)
    display(folder_text, button)

# --- Step 3: Ask output destination ---
def step3_output_destination():
    clear_output()
    print("Where would you like to save the output text file(s)?")
    choice = widgets.RadioButtons(
        options=[('Download directly to my computer', 'local'),
                 ('Save in Google Drive (permanent storage)', 'drive')],
        description='Output Dest:',
        disabled=False
    )
    button = widgets.Button(description="Start Processing")

    def on_start(b):
        global output_dest, output_folder_drive
        output_dest = choice.value
        if output_dest == 'drive':
            if not os.path.exists(drive_mount_path):
                print("Mounting Google Drive for saving output...")
                drive.mount(drive_mount_path, force_remount=True)
            # Create output folder on Drive
            output_folder_drive = os.path.join(drive_mount_path, 'MyOCROutputs')
            os.makedirs(output_folder_drive, exist_ok=True)
            print(f"Output files will be saved to Google Drive folder: {output_folder_drive}")
        process_files()

    button.on_click(on_start)
    display(choice, button)

# --- Processing function ---
def process_files():
    clear_output()
    print(f"Processing {len(uploaded_files)} PDF file(s)...")
    output_paths = []
    for pdf_path in uploaded_files:
        print(f"Processing: {os.path.basename(pdf_path)}")
        try:
            text = ocr_pdf_to_text(pdf_path)

            output_filename = Path(pdf_path).stem + '.txt'

            if output_dest == 'local':
                # Save locally in /content/output and provide download link
                os.makedirs('/content/output', exist_ok=True)
                out_path = f'/content/output/{output_filename}'
                with open(out_path, 'w', encoding='utf-8') as f:
                    f.write(text)
                output_paths.append(out_path)

            elif output_dest == 'drive':
                out_path = os.path.join(output_folder_drive, output_filename)
                with open(out_path, 'w', encoding='utf-8') as f:
                    f.write(text)
                output_paths.append(out_path)

        except Exception as e:
            print(f"Failed to process {pdf_path}: {e}")

    print("Processing complete!")
    if output_dest == 'local':
        print("You can download your .txt files here:")
        for path in output_paths:
            display(files.download(path))
    else:
        print(f"Files saved to Google Drive folder:\n{output_folder_drive}")

# --- Start the whole interactive flow ---
step1_input_source()
